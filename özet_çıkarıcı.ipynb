{
  "nbformat": 4,
  "nbformat_minor": 0,
  "metadata": {
    "colab": {
      "provenance": [],
      "authorship_tag": "ABX9TyNEYIeEfvIKxOp88M21UBH3",
      "include_colab_link": true
    },
    "kernelspec": {
      "name": "python3",
      "display_name": "Python 3"
    },
    "language_info": {
      "name": "python"
    }
  },
  "cells": [
    {
      "cell_type": "markdown",
      "metadata": {
        "id": "view-in-github",
        "colab_type": "text"
      },
      "source": [
        "<a href=\"https://colab.research.google.com/github/helloHENLO/Summaritor/blob/main/%C3%B6zet_%C3%A7%C4%B1kar%C4%B1c%C4%B1.ipynb\" target=\"_parent\"><img src=\"https://colab.research.google.com/assets/colab-badge.svg\" alt=\"Open In Colab\"/></a>"
      ]
    },
    {
      "cell_type": "code",
      "execution_count": 1,
      "metadata": {
        "colab": {
          "base_uri": "https://localhost:8080/"
        },
        "id": "8F0kaiCEQ_r_",
        "outputId": "db33ce17-72f3-4314-dcc2-f0dc23de6550"
      },
      "outputs": [
        {
          "output_type": "stream",
          "name": "stdout",
          "text": [
            "Requirement already satisfied: wordcloud in /usr/local/lib/python3.10/dist-packages (1.9.3)\n",
            "Requirement already satisfied: numpy>=1.6.1 in /usr/local/lib/python3.10/dist-packages (from wordcloud) (1.26.4)\n",
            "Requirement already satisfied: pillow in /usr/local/lib/python3.10/dist-packages (from wordcloud) (10.4.0)\n",
            "Requirement already satisfied: matplotlib in /usr/local/lib/python3.10/dist-packages (from wordcloud) (3.7.1)\n",
            "Requirement already satisfied: contourpy>=1.0.1 in /usr/local/lib/python3.10/dist-packages (from matplotlib->wordcloud) (1.3.0)\n",
            "Requirement already satisfied: cycler>=0.10 in /usr/local/lib/python3.10/dist-packages (from matplotlib->wordcloud) (0.12.1)\n",
            "Requirement already satisfied: fonttools>=4.22.0 in /usr/local/lib/python3.10/dist-packages (from matplotlib->wordcloud) (4.54.1)\n",
            "Requirement already satisfied: kiwisolver>=1.0.1 in /usr/local/lib/python3.10/dist-packages (from matplotlib->wordcloud) (1.4.7)\n",
            "Requirement already satisfied: packaging>=20.0 in /usr/local/lib/python3.10/dist-packages (from matplotlib->wordcloud) (24.1)\n",
            "Requirement already satisfied: pyparsing>=2.3.1 in /usr/local/lib/python3.10/dist-packages (from matplotlib->wordcloud) (3.2.0)\n",
            "Requirement already satisfied: python-dateutil>=2.7 in /usr/local/lib/python3.10/dist-packages (from matplotlib->wordcloud) (2.8.2)\n",
            "Requirement already satisfied: six>=1.5 in /usr/local/lib/python3.10/dist-packages (from python-dateutil>=2.7->matplotlib->wordcloud) (1.16.0)\n"
          ]
        },
        {
          "output_type": "stream",
          "name": "stderr",
          "text": [
            "[nltk_data] Downloading package punkt to /root/nltk_data...\n",
            "[nltk_data]   Unzipping tokenizers/punkt.zip.\n",
            "[nltk_data] Downloading package stopwords to /root/nltk_data...\n",
            "[nltk_data]   Unzipping corpora/stopwords.zip.\n",
            "[nltk_data] Downloading package wordnet to /root/nltk_data...\n"
          ]
        }
      ],
      "source": [
        "!pip install wordcloud\n",
        "from nltk.stem import WordNetLemmatizer\n",
        "import nltk\n",
        "from nltk.corpus import stopwords\n",
        "from nltk.tokenize import sent_tokenize, word_tokenize\n",
        "from nltk.probability import FreqDist\n",
        "from wordcloud import WordCloud\n",
        "from matplotlib import pyplot as plt\n",
        "\n",
        "nltk.download('punkt')\n",
        "nltk.download('stopwords')\n",
        "nltk.download('wordnet')\n",
        "\n",
        "\n",
        "\n",
        "\n",
        "\n",
        "\n",
        "def summarization(metin,sentence_number):\n",
        "\n",
        "  text=metin\n",
        "\n",
        "  sentences = sent_tokenize(text, language='turkish')\n",
        "\n",
        "  stop_words = set(stopwords.words('turkish'))\n",
        "\n",
        "  words = word_tokenize(text)\n",
        "\n",
        "  words = [word.lower() for word in words if word.isalpha()]\n",
        "  words = [word for word in words if word not in stop_words]\n",
        "\n",
        "  lemmatizer = WordNetLemmatizer()\n",
        "\n",
        "  words = [lemmatizer.lemmatize(word) for word in words]\n",
        "\n",
        "  freq_dist = FreqDist(words)\n",
        "  sentence_scores = {}\n",
        "\n",
        "  for i, sentence in enumerate(sentences):\n",
        "      sentence_words = word_tokenize(sentence.lower())\n",
        "      sentence_score = sum([freq_dist[word] for word in sentence_words if word in freq_dist])\n",
        "\n",
        "      sentence_scores[i] = sentence_score\n",
        "\n",
        "  sentence_scores\n",
        "\n",
        "  sorted_scores = sorted(sentence_scores.items(), key=lambda x: x[1], reverse=True)\n",
        "\n",
        "  sorted_scores\n",
        "\n",
        "  selected_sentences = sorted_scores[:sentence_number]\n",
        "  selected_sentences = sorted(selected_sentences)\n",
        "\n",
        "  # Özet oluşturma\n",
        "  summary = ' '.join([sentences[i] for i, _ in selected_sentences])\n",
        "  print(summary)\n"
      ]
    },
    {
      "cell_type": "code",
      "source": [
        "metin=\"\"\"           \"\"\""
      ],
      "metadata": {
        "id": "o-NxhKBYRRH8"
      },
      "execution_count": 2,
      "outputs": []
    },
    {
      "cell_type": "code",
      "source": [
        "summarization(metin,sentence_number=20)"
      ],
      "metadata": {
        "colab": {
          "base_uri": "https://localhost:8080/"
        },
        "id": "nGGv5uhYTJ7g",
        "outputId": "45b3b3e2-0e15-4c52-ec2b-5d9fd2f6a48a"
      },
      "execution_count": 6,
      "outputs": [
        {
          "output_type": "stream",
          "name": "stdout",
          "text": [
            "Sigara içmenin ne kadar zararlı olduğunu hepimiz biliyoruz ama bazen bu konuda farkındalık yaratmak ve bilinci artırmak önemli olabilir. Sigara, içindeki birçok kimyasal madde ve nikotin gibi zararlı maddeler nedeniyle insan sağlığına ciddi zararlar verebilen bir tütün ürünüdür. Bu maddeler, vücutta kanser riskini artırabilir ve özellikle akciğer kanseri başta olmak üzere birçok kanser türüne sebep olabilir. Ayrıca, sigara içmek solunum yollarında ciddi sorunlara neden olabilir. Kalp hastalıklarına ve damar tıkanıklığına yol açarak kalp krizi riskini artırabilir, kan basıncını yükseltebilir ve damar sertliğine neden olabilir. Pasif içicilik, sigara dumanına maruz kalan kişilerde benzer sağlık sorunlarına yol açabilir. Sonuç olarak, sigara insan sağlığına ve çevreye olan olumsuz etkileriyle bilinir. Sigara, içinde bulunan birçok kimyasal madde ve nikotin gibi zararlı maddeler nedeniyle insan sağlığına ciddi zararlar verir. İşte sigaranın neden zararlı olduğuna dair bazı temel sebepler:\n",
            "\n",
            "  Kanserojen Maddeler: Sigara dumanı, kanserojen maddeler içerir. Bu maddeler, kanser riskini artırabilir ve akciğer kanseri başta olmak üzere birçok kanser türüne yol açabilir. Solunum Yolu Sorunları: Sigara içmek, solunum yollarında ciddi sorunlara yol açabilir. Kalp ve Dolaşım Sistemi Problemleri: Sigara içmek, kalp hastalıklarına ve damar tıkanıklığına neden olabilir. Bu, kalp krizi riskini artırabilir, kan basıncını yükseltebilir ve damar sertliğine yol açabilir. Gelişim Üzerindeki Etkiler: Hamilelik sırasında sigara içmek, fetüsün sağlığı üzerinde olumsuz etkilere sahip olabilir. Bağımlılık ve Zihinsel Etkiler: Sigara içerisinde bulunan nikotin, bağımlılığa neden olan bir maddedir. Aynı zamanda, sigara içmek stresi azaltmak gibi yanıltıcı bir algı yaratabilir fakat aslında stresi artırabilir. Çevresel Etkiler: Sigara dumanı sadece içen kişiye değil, etrafındaki insanlara da zarar verebilir. Pasif içicilik, sigara dumanına maruz kalan kişilerde benzer sağlık sorunlarına yol açabilir. Bu zararlar, sigaranın insan sağlığına ve çevreye olan olumsuz etkilerini temsil etmektedir. Bu nedenlerden dolayı sigara, sağlık için büyük bir risk faktörü olarak kabul edilir ve sigara kullanımı toplum sağlığı için ciddi bir sorun oluşturur.\n"
          ]
        }
      ]
    }
  ]
}